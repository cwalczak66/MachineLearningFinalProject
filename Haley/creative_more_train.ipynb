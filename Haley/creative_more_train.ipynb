{
 "cells": [
  {
   "cell_type": "markdown",
   "metadata": {},
   "source": [
    "### Creative Solution More Training - for more information see CreativeSolution.md"
   ]
  },
  {
   "cell_type": "markdown",
   "metadata": {},
   "source": [
    "##### Import and install Dependencies"
   ]
  },
  {
   "cell_type": "code",
   "execution_count": null,
   "metadata": {},
   "outputs": [],
   "source": [
    "! pip install scikit-image opencv-python"
   ]
  },
  {
   "cell_type": "code",
   "execution_count": 1,
   "metadata": {},
   "outputs": [
    {
     "name": "stderr",
     "output_type": "stream",
     "text": [
      "C:\\Users\\haley\\AppData\\Local\\Packages\\PythonSoftwareFoundation.Python.3.9_qbz5n2kfra8p0\\LocalCache\\local-packages\\Python39\\site-packages\\tqdm\\auto.py:21: TqdmWarning: IProgress not found. Please update jupyter and ipywidgets. See https://ipywidgets.readthedocs.io/en/stable/user_install.html\n",
      "  from .autonotebook import tqdm as notebook_tqdm\n"
     ]
    }
   ],
   "source": [
    "import cv2\n",
    "import torch\n",
    "import numpy as np\n",
    "import torch.nn as nn\n",
    "import torch.optim as optim\n",
    "from torch.utils.data import DataLoader, TensorDataset\n",
    "from torchvision import models\n",
    "from skimage.feature import local_binary_pattern\n",
    "from sklearn.ensemble import RandomForestClassifier\n",
    "from sklearn.metrics import accuracy_score\n",
    "from sklearn.model_selection import train_test_split"
   ]
  },
  {
   "cell_type": "markdown",
   "metadata": {},
   "source": [
    "Load the data"
   ]
  },
  {
   "cell_type": "code",
   "execution_count": 2,
   "metadata": {},
   "outputs": [],
   "source": [
    "# Load dataset\n",
    "X = np.load(\"Xset.npy\")  # Shape: (num_samples, height, width, channels)\n",
    "Y = np.load(\"Yset.npy\")  # Shape: (num_samples,)\n",
    "\n",
    "X_train, X_test, Y_train, Y_test = train_test_split(X, Y, test_size=0.2, random_state=42)"
   ]
  },
  {
   "cell_type": "markdown",
   "metadata": {},
   "source": [
    "#### LBP Features"
   ]
  },
  {
   "cell_type": "code",
   "execution_count": 3,
   "metadata": {},
   "outputs": [],
   "source": [
    "def extract_lbp_features(image, P=8, R=1):\n",
    "    \"\"\"Extract LBP features from a single grayscale image.\"\"\"\n",
    "    lbp = local_binary_pattern(image, P, R, method='uniform')\n",
    "    (hist, _) = np.histogram(lbp.ravel(), bins=np.arange(0, P + 3), range=(0, P + 2))\n",
    "    hist = hist.astype(\"float\")\n",
    "    hist /= (hist.sum() + 1e-6)  # Normalize histogram\n",
    "    return hist\n",
    "\n",
    "# Extract LBP for all images\n",
    "lbp_features = np.array([extract_lbp_features(img) for img in X_train])"
   ]
  },
  {
   "cell_type": "markdown",
   "metadata": {},
   "source": [
    "#### Prepare data to train MobileNetV2 model"
   ]
  },
  {
   "cell_type": "code",
   "execution_count": 4,
   "metadata": {},
   "outputs": [],
   "source": [
    "X_train_tensor = torch.tensor(X_train, dtype=torch.float32).unsqueeze(1).repeat(1, 3, 1, 1) / 255.0  # Normalize & Convert to 3 channels\n",
    "Y_train_tensor = torch.tensor(Y_train, dtype=torch.long)\n",
    "Y_train_tensor = torch.argmax(Y_train_tensor, dim=1)\n",
    "\n",
    "mn_train_dataset = TensorDataset(X_train_tensor, Y_train_tensor)  \n",
    "\n",
    "mn_train_loader = DataLoader(mn_train_dataset, batch_size=32, shuffle=True)"
   ]
  },
  {
   "cell_type": "markdown",
   "metadata": {},
   "source": [
    "#### Create and Train (or Load) MobileNet Model"
   ]
  },
  {
   "cell_type": "code",
   "execution_count": 6,
   "metadata": {},
   "outputs": [
    {
     "name": "stdout",
     "output_type": "stream",
     "text": [
      "Loaded Model!\n"
     ]
    },
    {
     "name": "stderr",
     "output_type": "stream",
     "text": [
      "C:\\Users\\haley\\AppData\\Local\\Packages\\PythonSoftwareFoundation.Python.3.9_qbz5n2kfra8p0\\LocalCache\\local-packages\\Python39\\site-packages\\torchvision\\models\\_utils.py:208: UserWarning: The parameter 'pretrained' is deprecated since 0.13 and may be removed in the future, please use 'weights' instead.\n",
      "  warnings.warn(\n",
      "C:\\Users\\haley\\AppData\\Local\\Packages\\PythonSoftwareFoundation.Python.3.9_qbz5n2kfra8p0\\LocalCache\\local-packages\\Python39\\site-packages\\torchvision\\models\\_utils.py:223: UserWarning: Arguments other than a weight enum or `None` for 'weights' are deprecated since 0.13 and may be removed in the future. The current behavior is equivalent to passing `weights=MobileNet_V2_Weights.IMAGENET1K_V1`. You can also use `weights=MobileNet_V2_Weights.DEFAULT` to get the most up-to-date weights.\n",
      "  warnings.warn(msg)\n"
     ]
    }
   ],
   "source": [
    "loading_model = True # SET BY USER\n",
    "model = models.mobilenet_v2(pretrained=True)  # Load pretrained MobileNetV2\n",
    "\n",
    "model.classifier = nn.Identity()  # Remove the last layer (classifier)\n",
    "\n",
    "if loading_model:\n",
    "    # Load the saved state dictionary\n",
    "    model.load_state_dict(torch.load('mobilenet_v2_model.pth'))\n",
    "\n",
    "    model.eval()\n",
    "    print(\"Loaded Model!\")\n",
    "\n",
    "else:\n",
    "    model.eval()\n",
    "\n",
    "    criterion = nn.CrossEntropyLoss()\n",
    "    optimizer = optim.Adam(model.parameters(), lr=0.001)\n",
    "\n",
    "    num_epochs = 10\n",
    "    for epoch in range(num_epochs):\n",
    "        model.train()\n",
    "        running_loss = 0.0\n",
    "        for inputs, labels in mn_train_loader:\n",
    "            optimizer.zero_grad()\n",
    "            outputs = model(inputs)  \n",
    "            loss = criterion(outputs, labels)\n",
    "            loss.backward()  \n",
    "            optimizer.step() \n",
    "            running_loss += loss.item()\n",
    "\n",
    "        print(f\"Epoch [{epoch + 1}/{num_epochs}], Loss: {running_loss/len(mn_train_loader)}\")\n"
   ]
  },
  {
   "cell_type": "markdown",
   "metadata": {},
   "source": [
    "#### Get embeddings from model"
   ]
  },
  {
   "cell_type": "code",
   "execution_count": 13,
   "metadata": {},
   "outputs": [
    {
     "name": "stdout",
     "output_type": "stream",
     "text": [
      "(6400, 1280)\n"
     ]
    }
   ],
   "source": [
    "loading_embeddings = True\n",
    "\n",
    "if loading_embeddings:\n",
    "    mobilenet_features = np.load(\"embeddings_mobilenet_feat_ext.npy\")\n",
    "\n",
    "else:\n",
    "    def extract_embeddings(model: nn.Module, x_train: torch.Tensor, batch_size: int = 32) -> torch.Tensor:\n",
    "        embeddings = []\n",
    "        model.eval()\n",
    "        \n",
    "        with torch.no_grad():  # We don't need gradients for embedding extraction\n",
    "            for i in range(0, len(x_train), batch_size):\n",
    "                inputs_batch = x_train[i:i+batch_size]\n",
    "            # Move to GPU if necessary\n",
    "                \n",
    "                batch_embeddings = model(inputs_batch)  # Forward pass through the model\n",
    "                embeddings.append(batch_embeddings.cpu())  # Move back to CPU if on GPU\n",
    "\n",
    "        return torch.cat(embeddings, dim=0)  # Concatenate all the embeddings into a single tensor\n",
    "\n",
    "\n",
    "    embeddings = extract_embeddings(model, X_train_tensor)\n",
    "    mobilenet_features = embeddings.cpu().numpy() \n",
    "    np.save(\"embeddings_mobilenet_feat_ext.npy\", mobilenet_features)\n",
    "\n",
    "print(mobilenet_features.shape)"
   ]
  },
  {
   "cell_type": "markdown",
   "metadata": {},
   "source": [
    "#### Combined Features"
   ]
  },
  {
   "cell_type": "code",
   "execution_count": 14,
   "metadata": {},
   "outputs": [],
   "source": [
    "# Combine features\n",
    "X_combined = np.hstack((lbp_features, mobilenet_features))\n",
    "\n",
    "# Save combined features\n",
    "np.save(\"combined_features.npy\", X_combined)"
   ]
  },
  {
   "cell_type": "markdown",
   "metadata": {},
   "source": [
    "##### Train Random Forest Classifier on combined X"
   ]
  },
  {
   "cell_type": "code",
   "execution_count": 15,
   "metadata": {},
   "outputs": [
    {
     "name": "stdout",
     "output_type": "stream",
     "text": [
      "Accuracy: 0.9930\n"
     ]
    }
   ],
   "source": [
    "# Split dataset\n",
    "X_train, X_test, y_train, y_test = train_test_split(X_combined, Y_train, test_size=0.2, random_state=42)\n",
    "\n",
    "# Train classifier\n",
    "clf = RandomForestClassifier(n_estimators=100, random_state=42)\n",
    "clf.fit(X_train, y_train)\n",
    "\n",
    "# Evaluate model\n",
    "y_pred = clf.predict(X_test)\n",
    "print(f\"Accuracy: {accuracy_score(y_test, y_pred):.4f}\")\n"
   ]
  }
 ],
 "metadata": {
  "kernelspec": {
   "display_name": "Python 3",
   "language": "python",
   "name": "python3"
  },
  "language_info": {
   "codemirror_mode": {
    "name": "ipython",
    "version": 3
   },
   "file_extension": ".py",
   "mimetype": "text/x-python",
   "name": "python",
   "nbconvert_exporter": "python",
   "pygments_lexer": "ipython3",
   "version": "3.9.13"
  }
 },
 "nbformat": 4,
 "nbformat_minor": 2
}
